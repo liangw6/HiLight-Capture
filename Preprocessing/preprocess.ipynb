{
 "cells": [
  {
   "cell_type": "code",
   "execution_count": 10,
   "metadata": {},
   "outputs": [],
   "source": [
    "import cv2\n",
    "import numpy as np\n",
    "from tqdm import tqdm\n",
    "\n",
    "# ori_img = \"snow.jpeg\"\n",
    "# output_video = \"out.mp4\"\n",
    "# data_sequence = [0, 1, 0, 1, 1, 0, 0, 1, 0, 0]\n",
    "\n",
    "# for sanity check\n",
    "tmp_img = \"tmp.jpeg\"\n",
    "\n",
    "def make_delta_alpha_image(base_image, delta_alpha):\n",
    "    \"\"\"\n",
    "    Assume base_image of type uint8_t\n",
    "    \"\"\"\n",
    "    base_image = base_image.astype(float)\n",
    "    altered_image = np.multiply(base_image, 1 - delta_alpha)\n",
    "    return altered_image.astype(np.uint8)\n",
    "\n",
    "def make_fm_sequence(data_sequence):\n",
    "    fm_1 = [0, 1, 0, 1, 0, 1]  # 30 Hz of 1s\n",
    "    fm_0 = [0, 0, 1, 0, 0, 1]  # 20 Hz of 1s\n",
    "    output_fm_sequence = []\n",
    "    for i in data_sequence:\n",
    "        if i == 1:\n",
    "            output_fm_sequence.extend(fm_1)\n",
    "        else:\n",
    "            output_fm_sequence.extend(fm_0)\n",
    "    return output_fm_sequence\n",
    "\n",
    "def make_video(output_video, fm_sequence, image_0, image_1):\n",
    "    height, width, channels = image_0.shape\n",
    "    video = cv2.VideoWriter(output_video, cv2.VideoWriter_fourcc(*'MJPG'), 60, (width, height))\n",
    "    for i in tqdm(fm_sequence):\n",
    "        curr_img = image_0 if i == 0 else image_1\n",
    "        video.write(curr_img)\n",
    "    video.release()\n",
    "\n",
    "def run(image_name, output_name, data_sequence, delta_alpha=0.1):\n",
    "    ori_img = cv2.imread(image_name)\n",
    "    delta_alpha_img = make_delta_alpha_image(ori_img, delta_alpha)\n",
    "    cv2.imwrite(tmp_img, delta_alpha_img)\n",
    "    \n",
    "    fm_sequence = make_fm_sequence(data_sequence)\n",
    "    assert len(fm_sequence) == len(data_sequence) * 6\n",
    "\n",
    "    make_video(output_name, fm_sequence, ori_img, delta_alpha_img)"
   ]
  },
  {
   "cell_type": "code",
   "execution_count": 11,
   "metadata": {},
   "outputs": [
    {
     "output_type": "stream",
     "name": "stderr",
     "text": "100%|██████████| 60/60 [00:01<00:00, 31.28it/s]\n"
    }
   ],
   "source": [
    "run(\"snow.jpeg\", \"example1.mp4\", [0, 0, 1, 0, 1, 1, 1, 1, 0, 1])"
   ]
  },
  {
   "cell_type": "code",
   "execution_count": 9,
   "metadata": {},
   "outputs": [
    {
     "output_type": "execute_result",
     "data": {
      "text/plain": "[0, 1, 0, 1, 1, 1, 1, 0]"
     },
     "metadata": {},
     "execution_count": 9
    }
   ],
   "source": [
    "import random\n",
    "random.choices([0, 1], k=8)"
   ]
  },
  {
   "cell_type": "markdown",
   "metadata": {},
   "source": [
    "## Create darkened image"
   ]
  },
  {
   "cell_type": "code",
   "execution_count": 2,
   "metadata": {},
   "outputs": [
    {
     "output_type": "execute_result",
     "data": {
      "text/plain": "True"
     },
     "metadata": {},
     "execution_count": 2
    }
   ],
   "source": [
    "ori_img = cv2.imread(ori_img)\n",
    "delta_alpha_img = make_delta_alpha_image(ori_img, 0.1)\n",
    "# save temporary image to double check\n",
    "cv2.imwrite(tmp_img, delta_alpha_img)"
   ]
  },
  {
   "cell_type": "markdown",
   "metadata": {},
   "source": [
    "## Create video from modified image"
   ]
  },
  {
   "cell_type": "code",
   "execution_count": 3,
   "metadata": {},
   "outputs": [],
   "source": []
  },
  {
   "cell_type": "code",
   "execution_count": 4,
   "metadata": {},
   "outputs": [
    {
     "output_type": "execute_result",
     "data": {
      "text/plain": "60"
     },
     "metadata": {},
     "execution_count": 4
    }
   ],
   "source": [
    "fm_sequence = make_fm_sequence(data_sequence)\n",
    "assert len(fm_sequence) == len(data_sequence) * 6"
   ]
  },
  {
   "cell_type": "code",
   "execution_count": 5,
   "metadata": {},
   "outputs": [
    {
     "output_type": "stream",
     "name": "stderr",
     "text": "100%|██████████| 60/60 [00:01<00:00, 36.67it/s]\n"
    }
   ],
   "source": [
    "make_video(fm_sequence, ori_img, delta_alpha_img)"
   ]
  },
  {
   "cell_type": "markdown",
   "metadata": {},
   "source": [
    "## Now, double check to make sure we have it correctly"
   ]
  },
  {
   "cell_type": "code",
   "execution_count": 21,
   "metadata": {},
   "outputs": [],
   "source": [
    "def read_in_video(video_file_name):\n",
    "    tot_frames = []\n",
    "    cap = cv2.VideoCapture(video_file_name)\n",
    "    while not cap.isOpened():\n",
    "        cap = cv2.VideoCapture(video_file_name)\n",
    "        cv2.waitKey(1000)\n",
    "        print(\"Wait for the header\")\n",
    "\n",
    "    pos_frame = cap.get(cv2.CAP_PROP_POS_FRAMES)\n",
    "    while True:\n",
    "        flag, frame = cap.read()\n",
    "        if flag:\n",
    "            # The frame is ready and already captured\n",
    "            tot_frames.append(frame)\n",
    "            # cv2.imshow('video', frame)\n",
    "            pos_frame = cap.get(cv2.CAP_PROP_POS_FRAMES)\n",
    "            print(str(pos_frame)+\" frames\")\n",
    "        else:\n",
    "            # The next frame is not ready, so we try to read it again\n",
    "            cap.set(cv2.CAP_PROP_POS_FRAMES, pos_frame-1)\n",
    "            print(\"frame is not ready\")\n",
    "            # It is better to wait for a while for the next frame to be ready\n",
    "            cv2.waitKey(1000)\n",
    "\n",
    "        if cv2.waitKey(10) == 27:\n",
    "            break\n",
    "        if cap.get(cv2.CAP_PROP_POS_FRAMES) == cap.get(cv2.CAP_PROP_FRAME_COUNT):\n",
    "            # If the number of captured frames is equal to the total number of frames,\n",
    "            # we stop\n",
    "            break\n",
    "    return tot_frames"
   ]
  },
  {
   "cell_type": "code",
   "execution_count": 22,
   "metadata": {},
   "outputs": [
    {
     "output_type": "stream",
     "name": "stdout",
     "text": "1.0 frames\n2.0 frames\n3.0 frames\n4.0 frames\n5.0 frames\n6.0 frames\n7.0 frames\n8.0 frames\n9.0 frames\n10.0 frames\n11.0 frames\n12.0 frames\n13.0 frames\n14.0 frames\n15.0 frames\n16.0 frames\n17.0 frames\n18.0 frames\n19.0 frames\n20.0 frames\n21.0 frames\n22.0 frames\n23.0 frames\n24.0 frames\n25.0 frames\n26.0 frames\n27.0 frames\n28.0 frames\n29.0 frames\n30.0 frames\n31.0 frames\n32.0 frames\n33.0 frames\n34.0 frames\n35.0 frames\n36.0 frames\n37.0 frames\n38.0 frames\n39.0 frames\n40.0 frames\n41.0 frames\n42.0 frames\n43.0 frames\n44.0 frames\n45.0 frames\n46.0 frames\n47.0 frames\n48.0 frames\n49.0 frames\n50.0 frames\n51.0 frames\n52.0 frames\n53.0 frames\n54.0 frames\n55.0 frames\n56.0 frames\n57.0 frames\n58.0 frames\n59.0 frames\n60.0 frames\n"
    }
   ],
   "source": [
    "all_frames = read_in_video(\"out.avi\")"
   ]
  },
  {
   "cell_type": "code",
   "execution_count": 25,
   "metadata": {},
   "outputs": [
    {
     "output_type": "stream",
     "name": "stdout",
     "text": "0 111.14136262341111\n1 111.14819157717538\n2 99.57841166473692\n3 111.10759690358151\n4 111.11219191156576\n5 99.55416127447664\n6 111.12308423902232\n7 99.56107573237628\n8 111.12591917981682\n9 99.56422678564797\n10 111.1273225998496\n11 99.56396639799385\n12 111.18755883331079\n13 111.18748856076522\n14 99.58469116221299\n15 111.11123549206614\n16 111.11655212511141\n17 99.55951375874687\n18 111.12702689977506\n19 99.56682890071275\n20 111.1316887195219\n21 99.56768346543163\n22 111.13089238713951\n23 99.56876430733278\n24 111.18755883331079\n25 99.56591703620369\n26 111.13607288914619\n27 99.57021008569147\n28 111.13771305160321\n29 99.57175487974546\n30 111.13601598309778\n31 111.13078578673421\n32 99.59526254867477\n33 111.11494978258823\n34 111.11874727696477\n35 99.56375197451139\n36 111.18755883331079\n37 111.18747587813534\n38 99.58469029183644\n39 111.11123016619052\n40 111.11655626976169\n41 99.55951518865122\n42 111.1270237705641\n43 99.5668340815256\n44 111.1316966979737\n45 99.56768864624448\n46 111.13090036559132\n47 99.56876948814563\n48 111.18755883331079\n49 111.18749452906162\n50 99.58469221909881\n51 111.11122875700943\n52 111.1165453900547\n53 99.55951444261417\n54 111.12701948085105\n55 111.12190237127048\n56 99.59217926043523\n57 111.1131165001512\n58 111.11716922209224\n59 99.56123617178879\n"
    }
   ],
   "source": [
    "for index, i in enumerate(all_frames):\n",
    "    print(index, np.average(i))"
   ]
  },
  {
   "cell_type": "code",
   "execution_count": null,
   "metadata": {},
   "outputs": [],
   "source": []
  }
 ],
 "metadata": {
  "language_info": {
   "codemirror_mode": {
    "name": "ipython",
    "version": 3
   },
   "file_extension": ".py",
   "mimetype": "text/x-python",
   "name": "python",
   "nbconvert_exporter": "python",
   "pygments_lexer": "ipython3",
   "version": "3.7.5-final"
  },
  "orig_nbformat": 2,
  "kernelspec": {
   "name": "python37564bit6dcd843cb4ed4eb1a0e534913a974843",
   "display_name": "Python 3.7.5 64-bit"
  }
 },
 "nbformat": 4,
 "nbformat_minor": 2
}