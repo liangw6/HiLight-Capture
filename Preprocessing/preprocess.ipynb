{
 "cells": [
  {
   "cell_type": "code",
   "execution_count": 42,
   "metadata": {},
   "outputs": [],
   "source": [
    "import cv2\n",
    "import numpy as np\n",
    "from tqdm import tqdm\n",
    "\n",
    "# ori_img = \"snow.jpeg\"\n",
    "# output_video = \"out.mp4\"\n",
    "# data_sequence = [0, 1, 0, 1, 1, 0, 0, 1, 0, 0]\n",
    "\n",
    "# for sanity check\n",
    "tmp_img = \"tmp.jpeg\"\n",
    "\n",
    "def make_delta_alpha_image(base_image, delta_alpha):\n",
    "    \"\"\"\n",
    "    Assume base_image of type uint8_t\n",
    "    \"\"\"\n",
    "    base_image = base_image.astype(float)\n",
    "    altered_image = np.multiply(base_image, 1 - delta_alpha)\n",
    "    return altered_image.astype(np.uint8)\n",
    "\n",
    "def make_fm_sequence(data_sequence):\n",
    "    fm_1 = [0, 1, 0, 1, 0, 1]  # 30 Hz of 1s\n",
    "    fm_0 = [0, 0, 1, 0, 0, 1]  # 20 Hz of 1s\n",
    "    output_fm_sequence = []\n",
    "    for i in data_sequence:\n",
    "        if i == 1:\n",
    "            output_fm_sequence.extend(fm_1)\n",
    "        else:\n",
    "            output_fm_sequence.extend(fm_0)\n",
    "    return output_fm_sequence\n",
    "\n",
    "def make_video(output_video, fm_sequence, image_0, image_1, constant_sequence_len=5):\n",
    "    height, width, channels = image_0.shape\n",
    "    video = cv2.VideoWriter(output_video, cv2.VideoWriter_fourcc(*'MJPG'), 60, (width, height))\n",
    "\n",
    "    # append some constant image for warm-up\n",
    "    dark_image = (image_0 * .3).astype(np.uint8)\n",
    "    for i in tqdm(range(constant_sequence_len)):\n",
    "        video.write(dark_image)\n",
    "\n",
    "    for i in tqdm(fm_sequence):\n",
    "        curr_img = image_0 if i == 0 else image_1\n",
    "        video.write(curr_img)\n",
    "\n",
    "    # append some constant image for shut-down\n",
    "    for i in tqdm(range(constant_sequence_len)):\n",
    "        video.write(dark_image)\n",
    "\n",
    "    video.release()\n",
    "\n",
    "def run(image_name, output_name, data_sequence, delta_alpha=0.1):\n",
    "    ori_img = cv2.imread(image_name)\n",
    "    delta_alpha_img = make_delta_alpha_image(ori_img, delta_alpha)\n",
    "    cv2.imwrite(tmp_img, delta_alpha_img)\n",
    "    \n",
    "    fm_sequence = make_fm_sequence(data_sequence)\n",
    "    assert len(fm_sequence) == len(data_sequence) * 6\n",
    "\n",
    "    make_video(output_name, fm_sequence, ori_img, delta_alpha_img)\n",
    "\n",
    "# note that data_sequences is a list of list, each containing a fm_sequence\n",
    "def run_multiple_sequence(image_name, output_name, data_sequences, delta_alpha=0.1, constant_sequence_len=10):\n",
    "    ori_img = cv2.imread(image_name)\n",
    "    delta_alpha_img = make_delta_alpha_image(ori_img, delta_alpha)\n",
    "    cv2.imwrite(tmp_img, delta_alpha_img)\n",
    "\n",
    "    fm_sequences = [make_fm_sequence(i) for i in data_sequences]\n",
    "    \n",
    "    ########################## make video #######################################\n",
    "    height, width, channels = ori_img.shape\n",
    "    video = cv2.VideoWriter(output_name, cv2.VideoWriter_fourcc(*'MJPG'), 60, (width, height))\n",
    "\n",
    "    for seq in tqdm(fm_sequences):\n",
    "        # append some constant image for warm-up\n",
    "        dark_image = ori_img # (ori_img * .3).astype(np.uint8)\n",
    "        for i in range(constant_sequence_len):\n",
    "            video.write(dark_image)\n",
    "\n",
    "        for i in seq:\n",
    "            curr_img = ori_img if i == 0 else delta_alpha_img\n",
    "            video.write(curr_img)\n",
    "\n",
    "        # append some constant image for shut-down\n",
    "        for i in range(constant_sequence_len):\n",
    "            video.write(dark_image)\n",
    "\n",
    "    video.release()"
   ]
  },
  {
   "cell_type": "code",
   "execution_count": 39,
   "metadata": {},
   "outputs": [
    {
     "output_type": "stream",
     "name": "stderr",
     "text": "100%|██████████| 1/1 [00:01<00:00,  1.83s/it]\n"
    }
   ],
   "source": [
    "# [3 x preamble, 7 x data_bit, 1 x parity_bit]\n",
    "run_multiple_sequence(\"snow.jpeg\", \"example2_wth_const.mp4\", [[0, 1, 0, 0, 1, 1, 0, 1, 0, 0, 1]])"
   ]
  },
  {
   "cell_type": "code",
   "execution_count": 44,
   "metadata": {},
   "outputs": [],
   "source": [
    "import random\n",
    "\n",
    "# preamble is 010\n",
    "# [3 x preamble, 7 x data_bit, 1 x parity_bit]\n",
    "def make_random_sequences(n_seq, seq_len=8):\n",
    "    all_seq = []\n",
    "    for i in range(n_seq):\n",
    "        all_seq.append([0, 1, 0] + random.choices([0, 1], k=seq_len))\n",
    "    \n",
    "    # assert parity\n",
    "    for seq_i in all_seq:\n",
    "        parity_bit = sum(seq_i[3:-1]) % 2\n",
    "        seq_i[-1] = parity_bit\n",
    "\n",
    "    return all_seq"
   ]
  },
  {
   "cell_type": "code",
   "execution_count": 45,
   "metadata": {},
   "outputs": [
    {
     "output_type": "execute_result",
     "data": {
      "text/plain": "[[0, 1, 0, 0, 1, 1, 0, 1, 0, 0, 1],\n [0, 1, 0, 1, 0, 0, 1, 0, 1, 0, 1],\n [0, 1, 0, 0, 0, 0, 1, 0, 0, 0, 1],\n [0, 1, 0, 0, 1, 0, 0, 0, 0, 0, 1],\n [0, 1, 0, 0, 1, 1, 0, 1, 1, 1, 1],\n [0, 1, 0, 0, 1, 0, 0, 0, 1, 1, 1],\n [0, 1, 0, 1, 1, 1, 1, 1, 1, 1, 1],\n [0, 1, 0, 0, 0, 1, 0, 0, 0, 0, 1],\n [0, 1, 0, 1, 1, 1, 1, 1, 1, 0, 0],\n [0, 1, 0, 0, 0, 0, 0, 1, 0, 1, 0]]"
     },
     "metadata": {},
     "execution_count": 45
    }
   ],
   "source": [
    "data_sequences = make_random_sequences(10)\n",
    "data_sequences"
   ]
  },
  {
   "cell_type": "code",
   "execution_count": 64,
   "metadata": {},
   "outputs": [
    {
     "output_type": "stream",
     "name": "stderr",
     "text": "100%|██████████| 10/10 [00:18<00:00,  1.90s/it]\n"
    }
   ],
   "source": [
    "run_multiple_sequence(\"snow.jpeg\", \"multi_3_05.mp4\", data_sequences, delta_alpha=0.5)"
   ]
  },
  {
   "cell_type": "code",
   "execution_count": 57,
   "metadata": {},
   "outputs": [],
   "source": [
    "correct_data_sequences = [i[3:] for i in data_sequences]"
   ]
  },
  {
   "cell_type": "markdown",
   "metadata": {},
   "source": [
    "## Evaluation"
   ]
  },
  {
   "cell_type": "code",
   "execution_count": 58,
   "metadata": {},
   "outputs": [],
   "source": [
    "def accuracy_for_one(correct_data_sequences, input_sequences):\n",
    "    all_result = []\n",
    "    for seq_i in input_sequences:\n",
    "        seq_i_results = []\n",
    "        for seq_j in correct_data_sequences:\n",
    "            # number of bits that is correct\n",
    "            seq_i_results.append(len([(i, j) for i, j in zip(seq_i, seq_j) if i==j]))\n",
    "        all_result.append(max(seq_i_results) / len(seq_i))\n",
    "    \n",
    "    top_all_result = sorted(all_result, reverse=True)[:len(correct_data_sequences)]\n",
    "    return sum(top_all_result) / len(top_all_result)"
   ]
  },
  {
   "cell_type": "code",
   "execution_count": 63,
   "metadata": {},
   "outputs": [
    {
     "output_type": "execute_result",
     "data": {
      "text/plain": "[<matplotlib.lines.Line2D at 0x12337c150>]"
     },
     "metadata": {},
     "execution_count": 63
    },
    {
     "output_type": "display_data",
     "data": {
      "text/plain": "<Figure size 432x288 with 1 Axes>",
      "image/svg+xml": "<?xml version=\"1.0\" encoding=\"utf-8\" standalone=\"no\"?>\n<!DOCTYPE svg PUBLIC \"-//W3C//DTD SVG 1.1//EN\"\n  \"http://www.w3.org/Graphics/SVG/1.1/DTD/svg11.dtd\">\n<!-- Created with matplotlib (https://matplotlib.org/) -->\n<svg height=\"252.018125pt\" version=\"1.1\" viewBox=\"0 0 388.328125 252.018125\" width=\"388.328125pt\" xmlns=\"http://www.w3.org/2000/svg\" xmlns:xlink=\"http://www.w3.org/1999/xlink\">\n <defs>\n  <style type=\"text/css\">\n*{stroke-linecap:butt;stroke-linejoin:round;}\n  </style>\n </defs>\n <g id=\"figure_1\">\n  <g id=\"patch_1\">\n   <path d=\"M 0 252.018125 \nL 388.328125 252.018125 \nL 388.328125 0 \nL 0 0 \nz\n\" style=\"fill:none;\"/>\n  </g>\n  <g id=\"axes_1\">\n   <g id=\"patch_2\">\n    <path d=\"M 42.828125 228.14 \nL 377.628125 228.14 \nL 377.628125 10.7 \nL 42.828125 10.7 \nz\n\" style=\"fill:#ffffff;\"/>\n   </g>\n   <g id=\"matplotlib.axis_1\">\n    <g id=\"xtick_1\">\n     <g id=\"line2d_1\">\n      <defs>\n       <path d=\"M 0 0 \nL 0 3.5 \n\" id=\"m1c3caab0ec\" style=\"stroke:#000000;stroke-width:0.8;\"/>\n      </defs>\n      <g>\n       <use style=\"stroke:#000000;stroke-width:0.8;\" x=\"58.046307\" xlink:href=\"#m1c3caab0ec\" y=\"228.14\"/>\n      </g>\n     </g>\n     <g id=\"text_1\">\n      <!-- 20cm -->\n      <defs>\n       <path d=\"M 19.1875 8.296875 \nL 53.609375 8.296875 \nL 53.609375 0 \nL 7.328125 0 \nL 7.328125 8.296875 \nQ 12.9375 14.109375 22.625 23.890625 \nQ 32.328125 33.6875 34.8125 36.53125 \nQ 39.546875 41.84375 41.421875 45.53125 \nQ 43.3125 49.21875 43.3125 52.78125 \nQ 43.3125 58.59375 39.234375 62.25 \nQ 35.15625 65.921875 28.609375 65.921875 \nQ 23.96875 65.921875 18.8125 64.3125 \nQ 13.671875 62.703125 7.8125 59.421875 \nL 7.8125 69.390625 \nQ 13.765625 71.78125 18.9375 73 \nQ 24.125 74.21875 28.421875 74.21875 \nQ 39.75 74.21875 46.484375 68.546875 \nQ 53.21875 62.890625 53.21875 53.421875 \nQ 53.21875 48.921875 51.53125 44.890625 \nQ 49.859375 40.875 45.40625 35.40625 \nQ 44.1875 33.984375 37.640625 27.21875 \nQ 31.109375 20.453125 19.1875 8.296875 \nz\n\" id=\"DejaVuSans-50\"/>\n       <path d=\"M 31.78125 66.40625 \nQ 24.171875 66.40625 20.328125 58.90625 \nQ 16.5 51.421875 16.5 36.375 \nQ 16.5 21.390625 20.328125 13.890625 \nQ 24.171875 6.390625 31.78125 6.390625 \nQ 39.453125 6.390625 43.28125 13.890625 \nQ 47.125 21.390625 47.125 36.375 \nQ 47.125 51.421875 43.28125 58.90625 \nQ 39.453125 66.40625 31.78125 66.40625 \nz\nM 31.78125 74.21875 \nQ 44.046875 74.21875 50.515625 64.515625 \nQ 56.984375 54.828125 56.984375 36.375 \nQ 56.984375 17.96875 50.515625 8.265625 \nQ 44.046875 -1.421875 31.78125 -1.421875 \nQ 19.53125 -1.421875 13.0625 8.265625 \nQ 6.59375 17.96875 6.59375 36.375 \nQ 6.59375 54.828125 13.0625 64.515625 \nQ 19.53125 74.21875 31.78125 74.21875 \nz\n\" id=\"DejaVuSans-48\"/>\n       <path d=\"M 48.78125 52.59375 \nL 48.78125 44.1875 \nQ 44.96875 46.296875 41.140625 47.34375 \nQ 37.3125 48.390625 33.40625 48.390625 \nQ 24.65625 48.390625 19.8125 42.84375 \nQ 14.984375 37.3125 14.984375 27.296875 \nQ 14.984375 17.28125 19.8125 11.734375 \nQ 24.65625 6.203125 33.40625 6.203125 \nQ 37.3125 6.203125 41.140625 7.25 \nQ 44.96875 8.296875 48.78125 10.40625 \nL 48.78125 2.09375 \nQ 45.015625 0.34375 40.984375 -0.53125 \nQ 36.96875 -1.421875 32.421875 -1.421875 \nQ 20.0625 -1.421875 12.78125 6.34375 \nQ 5.515625 14.109375 5.515625 27.296875 \nQ 5.515625 40.671875 12.859375 48.328125 \nQ 20.21875 56 33.015625 56 \nQ 37.15625 56 41.109375 55.140625 \nQ 45.0625 54.296875 48.78125 52.59375 \nz\n\" id=\"DejaVuSans-99\"/>\n       <path d=\"M 52 44.1875 \nQ 55.375 50.25 60.0625 53.125 \nQ 64.75 56 71.09375 56 \nQ 79.640625 56 84.28125 50.015625 \nQ 88.921875 44.046875 88.921875 33.015625 \nL 88.921875 0 \nL 79.890625 0 \nL 79.890625 32.71875 \nQ 79.890625 40.578125 77.09375 44.375 \nQ 74.3125 48.1875 68.609375 48.1875 \nQ 61.625 48.1875 57.5625 43.546875 \nQ 53.515625 38.921875 53.515625 30.90625 \nL 53.515625 0 \nL 44.484375 0 \nL 44.484375 32.71875 \nQ 44.484375 40.625 41.703125 44.40625 \nQ 38.921875 48.1875 33.109375 48.1875 \nQ 26.21875 48.1875 22.15625 43.53125 \nQ 18.109375 38.875 18.109375 30.90625 \nL 18.109375 0 \nL 9.078125 0 \nL 9.078125 54.6875 \nL 18.109375 54.6875 \nL 18.109375 46.1875 \nQ 21.1875 51.21875 25.484375 53.609375 \nQ 29.78125 56 35.6875 56 \nQ 41.65625 56 45.828125 52.96875 \nQ 50 49.953125 52 44.1875 \nz\n\" id=\"DejaVuSans-109\"/>\n      </defs>\n      <g transform=\"translate(44.064276 242.738437)scale(0.1 -0.1)\">\n       <use xlink:href=\"#DejaVuSans-50\"/>\n       <use x=\"63.623047\" xlink:href=\"#DejaVuSans-48\"/>\n       <use x=\"127.246094\" xlink:href=\"#DejaVuSans-99\"/>\n       <use x=\"182.226562\" xlink:href=\"#DejaVuSans-109\"/>\n      </g>\n     </g>\n    </g>\n    <g id=\"xtick_2\">\n     <g id=\"line2d_2\">\n      <g>\n       <use style=\"stroke:#000000;stroke-width:0.8;\" x=\"159.500852\" xlink:href=\"#m1c3caab0ec\" y=\"228.14\"/>\n      </g>\n     </g>\n     <g id=\"text_2\">\n      <!-- 40cm -->\n      <defs>\n       <path d=\"M 37.796875 64.3125 \nL 12.890625 25.390625 \nL 37.796875 25.390625 \nz\nM 35.203125 72.90625 \nL 47.609375 72.90625 \nL 47.609375 25.390625 \nL 58.015625 25.390625 \nL 58.015625 17.1875 \nL 47.609375 17.1875 \nL 47.609375 0 \nL 37.796875 0 \nL 37.796875 17.1875 \nL 4.890625 17.1875 \nL 4.890625 26.703125 \nz\n\" id=\"DejaVuSans-52\"/>\n      </defs>\n      <g transform=\"translate(145.518821 242.738437)scale(0.1 -0.1)\">\n       <use xlink:href=\"#DejaVuSans-52\"/>\n       <use x=\"63.623047\" xlink:href=\"#DejaVuSans-48\"/>\n       <use x=\"127.246094\" xlink:href=\"#DejaVuSans-99\"/>\n       <use x=\"182.226562\" xlink:href=\"#DejaVuSans-109\"/>\n      </g>\n     </g>\n    </g>\n    <g id=\"xtick_3\">\n     <g id=\"line2d_3\">\n      <g>\n       <use style=\"stroke:#000000;stroke-width:0.8;\" x=\"260.955398\" xlink:href=\"#m1c3caab0ec\" y=\"228.14\"/>\n      </g>\n     </g>\n     <g id=\"text_3\">\n      <!-- 80cm -->\n      <defs>\n       <path d=\"M 31.78125 34.625 \nQ 24.75 34.625 20.71875 30.859375 \nQ 16.703125 27.09375 16.703125 20.515625 \nQ 16.703125 13.921875 20.71875 10.15625 \nQ 24.75 6.390625 31.78125 6.390625 \nQ 38.8125 6.390625 42.859375 10.171875 \nQ 46.921875 13.96875 46.921875 20.515625 \nQ 46.921875 27.09375 42.890625 30.859375 \nQ 38.875 34.625 31.78125 34.625 \nz\nM 21.921875 38.8125 \nQ 15.578125 40.375 12.03125 44.71875 \nQ 8.5 49.078125 8.5 55.328125 \nQ 8.5 64.0625 14.71875 69.140625 \nQ 20.953125 74.21875 31.78125 74.21875 \nQ 42.671875 74.21875 48.875 69.140625 \nQ 55.078125 64.0625 55.078125 55.328125 \nQ 55.078125 49.078125 51.53125 44.71875 \nQ 48 40.375 41.703125 38.8125 \nQ 48.828125 37.15625 52.796875 32.3125 \nQ 56.78125 27.484375 56.78125 20.515625 \nQ 56.78125 9.90625 50.3125 4.234375 \nQ 43.84375 -1.421875 31.78125 -1.421875 \nQ 19.734375 -1.421875 13.25 4.234375 \nQ 6.78125 9.90625 6.78125 20.515625 \nQ 6.78125 27.484375 10.78125 32.3125 \nQ 14.796875 37.15625 21.921875 38.8125 \nz\nM 18.3125 54.390625 \nQ 18.3125 48.734375 21.84375 45.5625 \nQ 25.390625 42.390625 31.78125 42.390625 \nQ 38.140625 42.390625 41.71875 45.5625 \nQ 45.3125 48.734375 45.3125 54.390625 \nQ 45.3125 60.0625 41.71875 63.234375 \nQ 38.140625 66.40625 31.78125 66.40625 \nQ 25.390625 66.40625 21.84375 63.234375 \nQ 18.3125 60.0625 18.3125 54.390625 \nz\n\" id=\"DejaVuSans-56\"/>\n      </defs>\n      <g transform=\"translate(246.973366 242.738437)scale(0.1 -0.1)\">\n       <use xlink:href=\"#DejaVuSans-56\"/>\n       <use x=\"63.623047\" xlink:href=\"#DejaVuSans-48\"/>\n       <use x=\"127.246094\" xlink:href=\"#DejaVuSans-99\"/>\n       <use x=\"182.226562\" xlink:href=\"#DejaVuSans-109\"/>\n      </g>\n     </g>\n    </g>\n    <g id=\"xtick_4\">\n     <g id=\"line2d_4\">\n      <g>\n       <use style=\"stroke:#000000;stroke-width:0.8;\" x=\"362.409943\" xlink:href=\"#m1c3caab0ec\" y=\"228.14\"/>\n      </g>\n     </g>\n     <g id=\"text_4\">\n      <!-- 120cm -->\n      <defs>\n       <path d=\"M 12.40625 8.296875 \nL 28.515625 8.296875 \nL 28.515625 63.921875 \nL 10.984375 60.40625 \nL 10.984375 69.390625 \nL 28.421875 72.90625 \nL 38.28125 72.90625 \nL 38.28125 8.296875 \nL 54.390625 8.296875 \nL 54.390625 0 \nL 12.40625 0 \nz\n\" id=\"DejaVuSans-49\"/>\n      </defs>\n      <g transform=\"translate(345.246662 242.738437)scale(0.1 -0.1)\">\n       <use xlink:href=\"#DejaVuSans-49\"/>\n       <use x=\"63.623047\" xlink:href=\"#DejaVuSans-50\"/>\n       <use x=\"127.246094\" xlink:href=\"#DejaVuSans-48\"/>\n       <use x=\"190.869141\" xlink:href=\"#DejaVuSans-99\"/>\n       <use x=\"245.849609\" xlink:href=\"#DejaVuSans-109\"/>\n      </g>\n     </g>\n    </g>\n   </g>\n   <g id=\"matplotlib.axis_2\">\n    <g id=\"ytick_1\">\n     <g id=\"line2d_5\">\n      <defs>\n       <path d=\"M 0 0 \nL -3.5 0 \n\" id=\"mb0a6ffcbe9\" style=\"stroke:#000000;stroke-width:0.8;\"/>\n      </defs>\n      <g>\n       <use style=\"stroke:#000000;stroke-width:0.8;\" x=\"42.828125\" xlink:href=\"#mb0a6ffcbe9\" y=\"218.256364\"/>\n      </g>\n     </g>\n     <g id=\"text_5\">\n      <!-- 0.825 -->\n      <defs>\n       <path d=\"M 10.6875 12.40625 \nL 21 12.40625 \nL 21 0 \nL 10.6875 0 \nz\n\" id=\"DejaVuSans-46\"/>\n       <path d=\"M 10.796875 72.90625 \nL 49.515625 72.90625 \nL 49.515625 64.59375 \nL 19.828125 64.59375 \nL 19.828125 46.734375 \nQ 21.96875 47.46875 24.109375 47.828125 \nQ 26.265625 48.1875 28.421875 48.1875 \nQ 40.625 48.1875 47.75 41.5 \nQ 54.890625 34.8125 54.890625 23.390625 \nQ 54.890625 11.625 47.5625 5.09375 \nQ 40.234375 -1.421875 26.90625 -1.421875 \nQ 22.3125 -1.421875 17.546875 -0.640625 \nQ 12.796875 0.140625 7.71875 1.703125 \nL 7.71875 11.625 \nQ 12.109375 9.234375 16.796875 8.0625 \nQ 21.484375 6.890625 26.703125 6.890625 \nQ 35.15625 6.890625 40.078125 11.328125 \nQ 45.015625 15.765625 45.015625 23.390625 \nQ 45.015625 31 40.078125 35.4375 \nQ 35.15625 39.890625 26.703125 39.890625 \nQ 22.75 39.890625 18.8125 39.015625 \nQ 14.890625 38.140625 10.796875 36.28125 \nz\n\" id=\"DejaVuSans-53\"/>\n      </defs>\n      <g transform=\"translate(7.2 222.055582)scale(0.1 -0.1)\">\n       <use xlink:href=\"#DejaVuSans-48\"/>\n       <use x=\"63.623047\" xlink:href=\"#DejaVuSans-46\"/>\n       <use x=\"95.410156\" xlink:href=\"#DejaVuSans-56\"/>\n       <use x=\"159.033203\" xlink:href=\"#DejaVuSans-50\"/>\n       <use x=\"222.65625\" xlink:href=\"#DejaVuSans-53\"/>\n      </g>\n     </g>\n    </g>\n    <g id=\"ytick_2\">\n     <g id=\"line2d_6\">\n      <g>\n       <use style=\"stroke:#000000;stroke-width:0.8;\" x=\"42.828125\" xlink:href=\"#mb0a6ffcbe9\" y=\"190.017403\"/>\n      </g>\n     </g>\n     <g id=\"text_6\">\n      <!-- 0.850 -->\n      <g transform=\"translate(7.2 193.816621)scale(0.1 -0.1)\">\n       <use xlink:href=\"#DejaVuSans-48\"/>\n       <use x=\"63.623047\" xlink:href=\"#DejaVuSans-46\"/>\n       <use x=\"95.410156\" xlink:href=\"#DejaVuSans-56\"/>\n       <use x=\"159.033203\" xlink:href=\"#DejaVuSans-53\"/>\n       <use x=\"222.65625\" xlink:href=\"#DejaVuSans-48\"/>\n      </g>\n     </g>\n    </g>\n    <g id=\"ytick_3\">\n     <g id=\"line2d_7\">\n      <g>\n       <use style=\"stroke:#000000;stroke-width:0.8;\" x=\"42.828125\" xlink:href=\"#mb0a6ffcbe9\" y=\"161.778442\"/>\n      </g>\n     </g>\n     <g id=\"text_7\">\n      <!-- 0.875 -->\n      <defs>\n       <path d=\"M 8.203125 72.90625 \nL 55.078125 72.90625 \nL 55.078125 68.703125 \nL 28.609375 0 \nL 18.3125 0 \nL 43.21875 64.59375 \nL 8.203125 64.59375 \nz\n\" id=\"DejaVuSans-55\"/>\n      </defs>\n      <g transform=\"translate(7.2 165.57766)scale(0.1 -0.1)\">\n       <use xlink:href=\"#DejaVuSans-48\"/>\n       <use x=\"63.623047\" xlink:href=\"#DejaVuSans-46\"/>\n       <use x=\"95.410156\" xlink:href=\"#DejaVuSans-56\"/>\n       <use x=\"159.033203\" xlink:href=\"#DejaVuSans-55\"/>\n       <use x=\"222.65625\" xlink:href=\"#DejaVuSans-53\"/>\n      </g>\n     </g>\n    </g>\n    <g id=\"ytick_4\">\n     <g id=\"line2d_8\">\n      <g>\n       <use style=\"stroke:#000000;stroke-width:0.8;\" x=\"42.828125\" xlink:href=\"#mb0a6ffcbe9\" y=\"133.539481\"/>\n      </g>\n     </g>\n     <g id=\"text_8\">\n      <!-- 0.900 -->\n      <defs>\n       <path d=\"M 10.984375 1.515625 \nL 10.984375 10.5 \nQ 14.703125 8.734375 18.5 7.8125 \nQ 22.3125 6.890625 25.984375 6.890625 \nQ 35.75 6.890625 40.890625 13.453125 \nQ 46.046875 20.015625 46.78125 33.40625 \nQ 43.953125 29.203125 39.59375 26.953125 \nQ 35.25 24.703125 29.984375 24.703125 \nQ 19.046875 24.703125 12.671875 31.3125 \nQ 6.296875 37.9375 6.296875 49.421875 \nQ 6.296875 60.640625 12.9375 67.421875 \nQ 19.578125 74.21875 30.609375 74.21875 \nQ 43.265625 74.21875 49.921875 64.515625 \nQ 56.59375 54.828125 56.59375 36.375 \nQ 56.59375 19.140625 48.40625 8.859375 \nQ 40.234375 -1.421875 26.421875 -1.421875 \nQ 22.703125 -1.421875 18.890625 -0.6875 \nQ 15.09375 0.046875 10.984375 1.515625 \nz\nM 30.609375 32.421875 \nQ 37.25 32.421875 41.125 36.953125 \nQ 45.015625 41.5 45.015625 49.421875 \nQ 45.015625 57.28125 41.125 61.84375 \nQ 37.25 66.40625 30.609375 66.40625 \nQ 23.96875 66.40625 20.09375 61.84375 \nQ 16.21875 57.28125 16.21875 49.421875 \nQ 16.21875 41.5 20.09375 36.953125 \nQ 23.96875 32.421875 30.609375 32.421875 \nz\n\" id=\"DejaVuSans-57\"/>\n      </defs>\n      <g transform=\"translate(7.2 137.338699)scale(0.1 -0.1)\">\n       <use xlink:href=\"#DejaVuSans-48\"/>\n       <use x=\"63.623047\" xlink:href=\"#DejaVuSans-46\"/>\n       <use x=\"95.410156\" xlink:href=\"#DejaVuSans-57\"/>\n       <use x=\"159.033203\" xlink:href=\"#DejaVuSans-48\"/>\n       <use x=\"222.65625\" xlink:href=\"#DejaVuSans-48\"/>\n      </g>\n     </g>\n    </g>\n    <g id=\"ytick_5\">\n     <g id=\"line2d_9\">\n      <g>\n       <use style=\"stroke:#000000;stroke-width:0.8;\" x=\"42.828125\" xlink:href=\"#mb0a6ffcbe9\" y=\"105.300519\"/>\n      </g>\n     </g>\n     <g id=\"text_9\">\n      <!-- 0.925 -->\n      <g transform=\"translate(7.2 109.099738)scale(0.1 -0.1)\">\n       <use xlink:href=\"#DejaVuSans-48\"/>\n       <use x=\"63.623047\" xlink:href=\"#DejaVuSans-46\"/>\n       <use x=\"95.410156\" xlink:href=\"#DejaVuSans-57\"/>\n       <use x=\"159.033203\" xlink:href=\"#DejaVuSans-50\"/>\n       <use x=\"222.65625\" xlink:href=\"#DejaVuSans-53\"/>\n      </g>\n     </g>\n    </g>\n    <g id=\"ytick_6\">\n     <g id=\"line2d_10\">\n      <g>\n       <use style=\"stroke:#000000;stroke-width:0.8;\" x=\"42.828125\" xlink:href=\"#mb0a6ffcbe9\" y=\"77.061558\"/>\n      </g>\n     </g>\n     <g id=\"text_10\">\n      <!-- 0.950 -->\n      <g transform=\"translate(7.2 80.860777)scale(0.1 -0.1)\">\n       <use xlink:href=\"#DejaVuSans-48\"/>\n       <use x=\"63.623047\" xlink:href=\"#DejaVuSans-46\"/>\n       <use x=\"95.410156\" xlink:href=\"#DejaVuSans-57\"/>\n       <use x=\"159.033203\" xlink:href=\"#DejaVuSans-53\"/>\n       <use x=\"222.65625\" xlink:href=\"#DejaVuSans-48\"/>\n      </g>\n     </g>\n    </g>\n    <g id=\"ytick_7\">\n     <g id=\"line2d_11\">\n      <g>\n       <use style=\"stroke:#000000;stroke-width:0.8;\" x=\"42.828125\" xlink:href=\"#mb0a6ffcbe9\" y=\"48.822597\"/>\n      </g>\n     </g>\n     <g id=\"text_11\">\n      <!-- 0.975 -->\n      <g transform=\"translate(7.2 52.621816)scale(0.1 -0.1)\">\n       <use xlink:href=\"#DejaVuSans-48\"/>\n       <use x=\"63.623047\" xlink:href=\"#DejaVuSans-46\"/>\n       <use x=\"95.410156\" xlink:href=\"#DejaVuSans-57\"/>\n       <use x=\"159.033203\" xlink:href=\"#DejaVuSans-55\"/>\n       <use x=\"222.65625\" xlink:href=\"#DejaVuSans-53\"/>\n      </g>\n     </g>\n    </g>\n    <g id=\"ytick_8\">\n     <g id=\"line2d_12\">\n      <g>\n       <use style=\"stroke:#000000;stroke-width:0.8;\" x=\"42.828125\" xlink:href=\"#mb0a6ffcbe9\" y=\"20.583636\"/>\n      </g>\n     </g>\n     <g id=\"text_12\">\n      <!-- 1.000 -->\n      <g transform=\"translate(7.2 24.382855)scale(0.1 -0.1)\">\n       <use xlink:href=\"#DejaVuSans-49\"/>\n       <use x=\"63.623047\" xlink:href=\"#DejaVuSans-46\"/>\n       <use x=\"95.410156\" xlink:href=\"#DejaVuSans-48\"/>\n       <use x=\"159.033203\" xlink:href=\"#DejaVuSans-48\"/>\n       <use x=\"222.65625\" xlink:href=\"#DejaVuSans-48\"/>\n      </g>\n     </g>\n    </g>\n   </g>\n   <g id=\"line2d_13\">\n    <path clip-path=\"url(#p3f664062bb)\" d=\"M 58.046307 77.061558 \nL 159.500852 133.539481 \nL 260.955398 20.583636 \nL 362.409943 218.256364 \n\" style=\"fill:none;stroke:#1f77b4;stroke-linecap:square;stroke-width:1.5;\"/>\n   </g>\n   <g id=\"patch_3\">\n    <path d=\"M 42.828125 228.14 \nL 42.828125 10.7 \n\" style=\"fill:none;stroke:#000000;stroke-linecap:square;stroke-linejoin:miter;stroke-width:0.8;\"/>\n   </g>\n   <g id=\"patch_4\">\n    <path d=\"M 377.628125 228.14 \nL 377.628125 10.7 \n\" style=\"fill:none;stroke:#000000;stroke-linecap:square;stroke-linejoin:miter;stroke-width:0.8;\"/>\n   </g>\n   <g id=\"patch_5\">\n    <path d=\"M 42.828125 228.14 \nL 377.628125 228.14 \n\" style=\"fill:none;stroke:#000000;stroke-linecap:square;stroke-linejoin:miter;stroke-width:0.8;\"/>\n   </g>\n   <g id=\"patch_6\">\n    <path d=\"M 42.828125 10.7 \nL 377.628125 10.7 \n\" style=\"fill:none;stroke:#000000;stroke-linecap:square;stroke-linejoin:miter;stroke-width:0.8;\"/>\n   </g>\n  </g>\n </g>\n <defs>\n  <clipPath id=\"p3f664062bb\">\n   <rect height=\"217.44\" width=\"334.8\" x=\"42.828125\" y=\"10.7\"/>\n  </clipPath>\n </defs>\n</svg>\n",
      "image/png": "[encoded data removed]"
     },
     "metadata": {
      "needs_background": "light"
     }
    }
   ],
   "source": [
    "import matplotlib.pyplot as plt\n",
    "accu_delta_1_20 = accuracy_for_one(correct_data_sequences, delta_1_20)\n",
    "accu_delta_1_40 = accuracy_for_one(correct_data_sequences, delta_1_40)\n",
    "accu_delta_1_80 = accuracy_for_one(correct_data_sequences, delta_1_80)\n",
    "accu_delta_1_120 = accuracy_for_one(correct_data_sequences, delta_1_120)\n",
    "plt.plot([\"20cm\", \"40cm\", \"80cm\", \"120cm\"], [accu_delta_1_20, accu_delta_1_40, accu_delta_1_80, accu_delta_1_120])"
   ]
  },
  {
   "cell_type": "code",
   "execution_count": 48,
   "metadata": {},
   "outputs": [],
   "source": [
    "delta_1_20 = \\\n",
    "    [[0, 1, 1, 0, 0, 0, 0, 0],\n",
    "    [1, 0, 0, 1, 0, 1, 0, 1],\n",
    "    [0, 0, 0, 1, 0, 0, 0, 1],\n",
    "    [0, 1, 0, 0, 0, 0, 0, 1],\n",
    "    [0, 1, 1, 0, 1, 1, 1, 1],\n",
    "    [0, 1, 0, 0, 0, 1, 1, 1],\n",
    "    [1, 1, 1, 1, 1, 1, 1, 1],\n",
    "    [0, 0, 1, 0, 0, 0, 0, 1],\n",
    "    [1, 0, 1, 1, 1, 1, 1, 0],\n",
    "    [0, 0, 0, 0, 1, 0, 1, 0]]\n",
    "\n",
    "delta_1_40 = \\\n",
    "    [[1, 1, 1, 1, 1, 1, 1, 0],\n",
    "    [0, 0, 1, 0, 1, 0, 0, 0],\n",
    "    [1, 0, 0, 0, 0, 0, 0, 1],\n",
    "    [0, 0, 1, 0, 0, 0, 1, 0],\n",
    "    [0, 0, 0, 0, 1, 0, 1, 1],\n",
    "    [0, 1, 1, 1, 0, 0, 1, 1],\n",
    "    [0, 1, 0, 0, 0, 1, 1, 1],\n",
    "    [1, 1, 1, 1, 1, 1, 1, 1],\n",
    "    [0, 0, 1, 0, 0, 0, 0, 1],\n",
    "    [1, 1, 1, 1, 1, 1, 0, 0],\n",
    "    [0, 0, 0, 0, 1, 0, 1, 0]]\n",
    "\n",
    "delta_1_80 = \\\n",
    "    [[0, 1, 1, 1, 1, 1, 1, 1],\n",
    "    [0, 1, 1, 0, 1, 0, 0, 1],\n",
    "    [1, 0, 0, 1, 0, 1, 0, 1],\n",
    "    [0, 0, 0, 1, 0, 0, 0, 1],\n",
    "    [0, 1, 0, 0, 0, 0, 0, 1],\n",
    "    [0, 1, 1, 0, 1, 1, 1, 1],\n",
    "    [0, 1, 0, 0, 0, 1, 1, 1],\n",
    "    [1, 1, 1, 1, 1, 1, 1, 1],\n",
    "    [0, 0, 1, 0, 0, 0, 0, 1],\n",
    "    [1, 1, 1, 1, 1, 1, 0, 0],\n",
    "    [0, 0, 0, 0, 1, 0, 1, 0]]\n",
    "\n",
    "delta_1_120 = \\\n",
    "    [[0, 1, 0, 1, 0, 1, 1, 1],\n",
    "    [1, 0, 1, 1, 1, 0, 0, 0],\n",
    "    [1, 0, 0, 1, 0, 1, 0, 1],\n",
    "    [0, 0, 0, 0, 0, 0, 0, 0],\n",
    "    [0, 0, 1, 0, 0, 1, 1, 1],\n",
    "    [1, 1, 0, 0, 0, 0, 1, 1],\n",
    "    [0, 1, 0, 0, 0, 1, 1, 0],\n",
    "    [0, 0, 0, 0, 1, 0, 0, 1],\n",
    "    [0, 0, 1, 0, 1, 1, 0, 0],\n",
    "    [0, 0, 0, 0, 0, 1, 1, 1],\n",
    "    [0, 1, 1, 0, 1, 1, 0, 1]]"
   ]
  },
  {
   "cell_type": "markdown",
   "metadata": {},
   "source": [
    "## Create darkened image"
   ]
  },
  {
   "cell_type": "code",
   "execution_count": 2,
   "metadata": {},
   "outputs": [
    {
     "output_type": "execute_result",
     "data": {
      "text/plain": "True"
     },
     "metadata": {},
     "execution_count": 2
    }
   ],
   "source": [
    "ori_img = cv2.imread(ori_img)\n",
    "delta_alpha_img = make_delta_alpha_image(ori_img, 0.1)\n",
    "# save temporary image to double check\n",
    "cv2.imwrite(tmp_img, delta_alpha_img)"
   ]
  },
  {
   "cell_type": "markdown",
   "metadata": {},
   "source": [
    "## Create video from modified image"
   ]
  },
  {
   "cell_type": "code",
   "execution_count": 3,
   "metadata": {},
   "outputs": [],
   "source": []
  },
  {
   "cell_type": "code",
   "execution_count": 4,
   "metadata": {},
   "outputs": [
    {
     "output_type": "execute_result",
     "data": {
      "text/plain": "60"
     },
     "metadata": {},
     "execution_count": 4
    }
   ],
   "source": [
    "fm_sequence = make_fm_sequence(data_sequence)\n",
    "assert len(fm_sequence) == len(data_sequence) * 6"
   ]
  },
  {
   "cell_type": "code",
   "execution_count": 5,
   "metadata": {},
   "outputs": [
    {
     "output_type": "stream",
     "name": "stderr",
     "text": "100%|██████████| 60/60 [00:01<00:00, 36.67it/s]\n"
    }
   ],
   "source": [
    "make_video(fm_sequence, ori_img, delta_alpha_img)"
   ]
  },
  {
   "cell_type": "markdown",
   "metadata": {},
   "source": [
    "## Now, double check to make sure we have it correctly"
   ]
  },
  {
   "cell_type": "code",
   "execution_count": 21,
   "metadata": {},
   "outputs": [],
   "source": [
    "def read_in_video(video_file_name):\n",
    "    tot_frames = []\n",
    "    cap = cv2.VideoCapture(video_file_name)\n",
    "    while not cap.isOpened():\n",
    "        cap = cv2.VideoCapture(video_file_name)\n",
    "        cv2.waitKey(1000)\n",
    "        print(\"Wait for the header\")\n",
    "\n",
    "    pos_frame = cap.get(cv2.CAP_PROP_POS_FRAMES)\n",
    "    while True:\n",
    "        flag, frame = cap.read()\n",
    "        if flag:\n",
    "            # The frame is ready and already captured\n",
    "            tot_frames.append(frame)\n",
    "            # cv2.imshow('video', frame)\n",
    "            pos_frame = cap.get(cv2.CAP_PROP_POS_FRAMES)\n",
    "            print(str(pos_frame)+\" frames\")\n",
    "        else:\n",
    "            # The next frame is not ready, so we try to read it again\n",
    "            cap.set(cv2.CAP_PROP_POS_FRAMES, pos_frame-1)\n",
    "            print(\"frame is not ready\")\n",
    "            # It is better to wait for a while for the next frame to be ready\n",
    "            cv2.waitKey(1000)\n",
    "\n",
    "        if cv2.waitKey(10) == 27:\n",
    "            break\n",
    "        if cap.get(cv2.CAP_PROP_POS_FRAMES) == cap.get(cv2.CAP_PROP_FRAME_COUNT):\n",
    "            # If the number of captured frames is equal to the total number of frames,\n",
    "            # we stop\n",
    "            break\n",
    "    return tot_frames"
   ]
  },
  {
   "cell_type": "code",
   "execution_count": 22,
   "metadata": {},
   "outputs": [
    {
     "output_type": "stream",
     "name": "stdout",
     "text": "1.0 frames\n2.0 frames\n3.0 frames\n4.0 frames\n5.0 frames\n6.0 frames\n7.0 frames\n8.0 frames\n9.0 frames\n10.0 frames\n11.0 frames\n12.0 frames\n13.0 frames\n14.0 frames\n15.0 frames\n16.0 frames\n17.0 frames\n18.0 frames\n19.0 frames\n20.0 frames\n21.0 frames\n22.0 frames\n23.0 frames\n24.0 frames\n25.0 frames\n26.0 frames\n27.0 frames\n28.0 frames\n29.0 frames\n30.0 frames\n31.0 frames\n32.0 frames\n33.0 frames\n34.0 frames\n35.0 frames\n36.0 frames\n37.0 frames\n38.0 frames\n39.0 frames\n40.0 frames\n41.0 frames\n42.0 frames\n43.0 frames\n44.0 frames\n45.0 frames\n46.0 frames\n47.0 frames\n48.0 frames\n49.0 frames\n50.0 frames\n51.0 frames\n52.0 frames\n53.0 frames\n54.0 frames\n55.0 frames\n56.0 frames\n57.0 frames\n58.0 frames\n59.0 frames\n60.0 frames\n"
    }
   ],
   "source": [
    "all_frames = read_in_video(\"out.avi\")"
   ]
  },
  {
   "cell_type": "code",
   "execution_count": 25,
   "metadata": {},
   "outputs": [
    {
     "output_type": "stream",
     "name": "stdout",
     "text": "0 111.14136262341111\n1 111.14819157717538\n2 99.57841166473692\n3 111.10759690358151\n4 111.11219191156576\n5 99.55416127447664\n6 111.12308423902232\n7 99.56107573237628\n8 111.12591917981682\n9 99.56422678564797\n10 111.1273225998496\n11 99.56396639799385\n12 111.18755883331079\n13 111.18748856076522\n14 99.58469116221299\n15 111.11123549206614\n16 111.11655212511141\n17 99.55951375874687\n18 111.12702689977506\n19 99.56682890071275\n20 111.1316887195219\n21 99.56768346543163\n22 111.13089238713951\n23 99.56876430733278\n24 111.18755883331079\n25 99.56591703620369\n26 111.13607288914619\n27 99.57021008569147\n28 111.13771305160321\n29 99.57175487974546\n30 111.13601598309778\n31 111.13078578673421\n32 99.59526254867477\n33 111.11494978258823\n34 111.11874727696477\n35 99.56375197451139\n36 111.18755883331079\n37 111.18747587813534\n38 99.58469029183644\n39 111.11123016619052\n40 111.11655626976169\n41 99.55951518865122\n42 111.1270237705641\n43 99.5668340815256\n44 111.1316966979737\n45 99.56768864624448\n46 111.13090036559132\n47 99.56876948814563\n48 111.18755883331079\n49 111.18749452906162\n50 99.58469221909881\n51 111.11122875700943\n52 111.1165453900547\n53 99.55951444261417\n54 111.12701948085105\n55 111.12190237127048\n56 99.59217926043523\n57 111.1131165001512\n58 111.11716922209224\n59 99.56123617178879\n"
    }
   ],
   "source": [
    "for index, i in enumerate(all_frames):\n",
    "    print(index, np.average(i))"
   ]
  },
  {
   "cell_type": "code",
   "execution_count": null,
   "metadata": {},
   "outputs": [],
   "source": []
  }
 ],
 "metadata": {
  "language_info": {
   "codemirror_mode": {
    "name": "ipython",
    "version": 3
   },
   "file_extension": ".py",
   "mimetype": "text/x-python",
   "name": "python",
   "nbconvert_exporter": "python",
   "pygments_lexer": "ipython3",
   "version": "3.7.5-final"
  },
  "orig_nbformat": 2,
  "kernelspec": {
   "name": "python37564bit6dcd843cb4ed4eb1a0e534913a974843",
   "display_name": "Python 3.7.5 64-bit"
  }
 },
 "nbformat": 4,
 "nbformat_minor": 2
}